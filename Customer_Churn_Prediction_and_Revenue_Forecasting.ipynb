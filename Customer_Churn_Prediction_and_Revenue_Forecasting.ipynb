{
  "nbformat": 4,
  "nbformat_minor": 0,
  "metadata": {
    "colab": {
      "provenance": []
    },
    "kernelspec": {
      "name": "python3",
      "display_name": "Python 3"
    },
    "language_info": {
      "name": "python"
    }
  },
  "cells": [
    {
      "cell_type": "code",
      "execution_count": 48,
      "metadata": {
        "id": "oQhSobffIBsP"
      },
      "outputs": [],
      "source": [
        "import pandas as pd\n",
        "import numpy as np\n",
        "import matplotlib.pyplot as plt\n",
        "import seaborn as sns"
      ]
    },
    {
      "cell_type": "code",
      "source": [
        "Customers = pd.read_csv(\"/content/Customers.csv\")"
      ],
      "metadata": {
        "id": "Bx0Gp5uDI0bV"
      },
      "execution_count": 49,
      "outputs": []
    },
    {
      "cell_type": "code",
      "source": [
        "Subscriptions = pd.read_csv(\"/content/Subscription.csv\")"
      ],
      "metadata": {
        "id": "SiD8BKKMKJEE"
      },
      "execution_count": 68,
      "outputs": []
    },
    {
      "cell_type": "code",
      "source": [
        "Transactions = pd.read_csv(\"/content/Transcation.csv\")"
      ],
      "metadata": {
        "id": "JxATcaQVKVh7"
      },
      "execution_count": 69,
      "outputs": []
    },
    {
      "cell_type": "code",
      "source": [
        "Usage = pd.read_csv(\"/content/Usage.csv\")"
      ],
      "metadata": {
        "id": "s9E7Bk7ubCFZ"
      },
      "execution_count": 70,
      "outputs": []
    },
    {
      "cell_type": "code",
      "source": [
        "merged_df = pd.merge(Customers, Subscriptions, on=\"CustomerID\", how=\"left\")\n"
      ],
      "metadata": {
        "id": "-hHfV2ttLV7o"
      },
      "execution_count": 71,
      "outputs": []
    },
    {
      "cell_type": "code",
      "source": [
        "merged_df = merged_df.merge(Transactions, on=\"CustomerID\", how=\"left\")"
      ],
      "metadata": {
        "id": "QJlBGqA3NULt"
      },
      "execution_count": 72,
      "outputs": []
    },
    {
      "cell_type": "code",
      "source": [
        "merged_df = merged_df.merge(Usage, on=\"CustomerID\", how=\"left\")"
      ],
      "metadata": {
        "id": "U0UeaTcmNvfJ"
      },
      "execution_count": 73,
      "outputs": []
    },
    {
      "cell_type": "code",
      "source": [
        "# Check for non-datetime values\n",
        "print(merged_df[[\"StartDate\", \"EndDate\"]].dtypes)\n",
        "\n",
        "# Look for rows with invalid dates\n",
        "print(merged_df[merged_df[\"StartDate\"].isna() | merged_df[\"EndDate\"].isna()])\n"
      ],
      "metadata": {
        "colab": {
          "base_uri": "https://localhost:8080/",
          "height": 0
        },
        "id": "vWYjJ8O-ctdj",
        "outputId": "dc061a58-8e23-411f-e20f-37b0a06519e1"
      },
      "execution_count": 74,
      "outputs": [
        {
          "output_type": "stream",
          "name": "stdout",
          "text": [
            "StartDate    object\n",
            "EndDate      object\n",
            "dtype: object\n",
            "    CustomerID              Name  Age  Gender  Income            Location  \\\n",
            "0            1       Karan Reddy   29    Male   40000           Hyderabad   \n",
            "2            3          Diya Das   28  Female   60000             Chennai   \n",
            "7            5        Suman Iyer   30  Female   50000              Mumbai   \n",
            "9            7      Aditya Ghosh   27    Male   42000             Kolkata   \n",
            "11           9     Rajesh Sharma   38    Male   61000               Noida   \n",
            "12           9     Rajesh Sharma   38    Male   61000               Noida   \n",
            "16          11  Vivaan Choudhary   26    Male   45000              Bhopal   \n",
            "18          13      Vikram Verma   37    Male   57000          Chandigarh   \n",
            "19          13      Vikram Verma   37    Male   57000          Chandigarh   \n",
            "21          15       Aditi Patel   28  Female   62000           Ahmedabad   \n",
            "22          15       Aditi Patel   28  Female   62000           Ahmedabad   \n",
            "24          17       Sneha Reddy   25  Female   48000               Patna   \n",
            "25          17       Sneha Reddy   25  Female   48000               Patna   \n",
            "32          19  Siddharth Pandey   31    Male   45000              Nagpur   \n",
            "33          19  Siddharth Pandey   31    Male   45000              Nagpur   \n",
            "35          21   Anjali Malhotra   30  Female   61000            Amritsar   \n",
            "38          23       Anaya Reddy   34  Female   53000          Trivandrum   \n",
            "41          25      Aditya Joshi   28    Male   42000         Bhubaneswar   \n",
            "42          25      Aditya Joshi   28    Male   42000         Bhubaneswar   \n",
            "45          27      Rajesh Singh   36    Male   62000             Jodhpur   \n",
            "46          27      Rajesh Singh   36    Male   62000             Jodhpur   \n",
            "47          27      Rajesh Singh   36    Male   62000             Jodhpur   \n",
            "49          29       Priya Verma   29  Female   52000          Coimbatore   \n",
            "51          31       Karan Joshi   35    Male   44000              Shimla   \n",
            "55          33       Aditi Ghosh   27  Female   59000                Agra   \n",
            "59          35     Vikram Chopra   32    Male   53000            Ludhiana   \n",
            "60          35     Vikram Chopra   32    Male   53000            Ludhiana   \n",
            "61          35     Vikram Chopra   32    Male   53000            Ludhiana   \n",
            "62          35     Vikram Chopra   32    Male   53000            Ludhiana   \n",
            "63          35     Vikram Chopra   32    Male   53000            Ludhiana   \n",
            "65          37      Vikram Verma   28    Male   49000  Thiruvananthapuram   \n",
            "66          37      Vikram Verma   28    Male   49000  Thiruvananthapuram   \n",
            "68          39       Meera Reddy   30  Female   60000             Aligarh   \n",
            "69          39       Meera Reddy   30  Female   60000             Aligarh   \n",
            "\n",
            "   SubscriptionID   StartDate EndDate Status transaction_id transaction_date  \\\n",
            "0         SUB0001  2022-01-31     NaN    Yes            NaN              NaN   \n",
            "2         SUB0003  2022-03-31     NaN    Yes            NaN              NaN   \n",
            "7         SUB0005  2022-05-31     NaN    Yes            NaN              NaN   \n",
            "9         SUB0007  2022-07-31     NaN    Yes       4aa300c1       2024-06-15   \n",
            "11        SUB0009  2022-09-30     NaN    Yes       8794c880       2024-06-16   \n",
            "12        SUB0009  2022-09-30     NaN    Yes       f0d2179a       2024-03-28   \n",
            "16        SUB0011  2022-11-30     NaN    Yes            NaN              NaN   \n",
            "18        SUB0013  2023-01-31     NaN    Yes       f4ca3e88       2024-09-19   \n",
            "19        SUB0013  2023-01-31     NaN    Yes       92f3c302       2024-03-09   \n",
            "21        SUB0015  2023-03-31     NaN    Yes       ec45588e       2024-07-08   \n",
            "22        SUB0015  2023-03-31     NaN    Yes       06cdd324       2024-04-02   \n",
            "24        SUB0017  2023-05-31     NaN    Yes       ce2cacd0       2023-12-26   \n",
            "25        SUB0017  2023-05-31     NaN    Yes       bcf50ae8       2024-07-12   \n",
            "32        SUB0019  2023-07-31     NaN    Yes       bc1faa6d       2024-09-13   \n",
            "33        SUB0019  2023-07-31     NaN    Yes       bc1faa6d       2024-09-13   \n",
            "35        SUB0021  2023-09-30     NaN    Yes       717861cd       2024-01-06   \n",
            "38        SUB0023  2023-11-30     NaN    Yes       b8bb513e       2024-10-23   \n",
            "41        SUB0025  2024-01-31     NaN    Yes       3ed0bcf3       2024-07-30   \n",
            "42        SUB0025  2024-01-31     NaN    Yes       3ed0bcf3       2024-07-30   \n",
            "45        SUB0027  2024-03-31     NaN    Yes       d4972e52       2024-02-19   \n",
            "46        SUB0027  2024-03-31     NaN    Yes       e3a696ba       2024-08-08   \n",
            "47        SUB0027  2024-03-31     NaN    Yes       99d3493f       2024-08-18   \n",
            "49        SUB0029  2024-05-31     NaN    Yes       ceeca747       2024-04-03   \n",
            "51        SUB0031  2024-07-31     NaN    Yes            NaN              NaN   \n",
            "55        SUB0033  2024-09-30     NaN    Yes            NaN              NaN   \n",
            "59        SUB0035  2024-11-30     NaN    Yes            NaN              NaN   \n",
            "60        SUB0035  2024-11-30     NaN    Yes            NaN              NaN   \n",
            "61        SUB0035  2024-11-30     NaN    Yes            NaN              NaN   \n",
            "62        SUB0035  2024-11-30     NaN    Yes            NaN              NaN   \n",
            "63        SUB0035  2024-11-30     NaN    Yes            NaN              NaN   \n",
            "65        SUB0037  2025-01-31     NaN    Yes            NaN              NaN   \n",
            "66        SUB0037  2025-01-31     NaN    Yes            NaN              NaN   \n",
            "68        SUB0039  2025-03-31     NaN    Yes       b8813057       2024-06-22   \n",
            "69        SUB0039  2025-03-31     NaN    Yes       b8813057       2024-06-22   \n",
            "\n",
            "    amount transaction_type  usage_id      feature_used  usage_date  \\\n",
            "0      NaN              NaN       NaN               NaN         NaN   \n",
            "2      NaN              NaN      11.0      Rate Content  2024-02-21   \n",
            "7      NaN              NaN      14.0       Watch Movie  2023-12-19   \n",
            "9     7.96            Debit      35.0     Stream Series  2023-12-30   \n",
            "11   18.88            Debit       2.0       Watch Movie  2023-12-11   \n",
            "12   18.90           Credit       2.0       Watch Movie  2023-12-11   \n",
            "16     NaN              NaN       NaN               NaN         NaN   \n",
            "18   12.68           Credit      36.0  Download Episode  2024-05-14   \n",
            "19   16.41            Debit      36.0  Download Episode  2024-05-14   \n",
            "21    9.01           Credit      27.0  Download Episode  2024-03-06   \n",
            "22   18.69            Debit      27.0  Download Episode  2024-03-06   \n",
            "24   15.29           Credit      34.0            Search  2024-08-22   \n",
            "25    9.22           Credit      34.0            Search  2024-08-22   \n",
            "32   10.95           Credit      15.0       Watch Movie  2024-07-25   \n",
            "33   10.95           Credit      33.0      Rate Content  2024-09-02   \n",
            "35   13.76           Credit       NaN               NaN         NaN   \n",
            "38   10.68           Credit      10.0     Stream Series  2024-01-17   \n",
            "41    9.60           Credit      12.0       Watch Movie  2024-02-13   \n",
            "42    9.60           Credit      16.0     Stream Series  2024-04-03   \n",
            "45   16.00           Credit       NaN               NaN         NaN   \n",
            "46   12.97            Debit       NaN               NaN         NaN   \n",
            "47   15.47            Debit       NaN               NaN         NaN   \n",
            "49   11.76           Credit       NaN               NaN         NaN   \n",
            "51     NaN              NaN       NaN               NaN         NaN   \n",
            "55     NaN              NaN       NaN               NaN         NaN   \n",
            "59     NaN              NaN       3.0       Watch Movie  2024-01-24   \n",
            "60     NaN              NaN       6.0      Rate Content  2024-08-01   \n",
            "61     NaN              NaN      19.0  Download Episode  2024-08-30   \n",
            "62     NaN              NaN      32.0     Stream Series  2023-12-29   \n",
            "63     NaN              NaN      37.0            Search  2024-11-21   \n",
            "65     NaN              NaN      23.0     Stream Series  2024-08-05   \n",
            "66     NaN              NaN      40.0       Watch Movie  2024-10-09   \n",
            "68   15.99           Credit       5.0       Watch Movie  2024-02-08   \n",
            "69   15.99           Credit      30.0      Rate Content  2024-02-25   \n",
            "\n",
            "    usage_amount  \n",
            "0            NaN  \n",
            "2          21.23  \n",
            "7          30.51  \n",
            "9          55.69  \n",
            "11         76.66  \n",
            "12         76.66  \n",
            "16           NaN  \n",
            "18         78.63  \n",
            "19         78.63  \n",
            "21         54.42  \n",
            "22         54.42  \n",
            "24         55.69  \n",
            "25         55.69  \n",
            "32         87.98  \n",
            "33         50.84  \n",
            "35           NaN  \n",
            "38         33.81  \n",
            "41         36.39  \n",
            "42         67.21  \n",
            "45           NaN  \n",
            "46           NaN  \n",
            "47           NaN  \n",
            "49           NaN  \n",
            "51           NaN  \n",
            "55           NaN  \n",
            "59         47.97  \n",
            "60         50.43  \n",
            "61         51.60  \n",
            "62         40.62  \n",
            "63         63.91  \n",
            "65         68.99  \n",
            "66         75.87  \n",
            "68         27.90  \n",
            "69         32.63  \n"
          ]
        }
      ]
    },
    {
      "cell_type": "code",
      "source": [
        "print(merged_df.columns)"
      ],
      "metadata": {
        "colab": {
          "base_uri": "https://localhost:8080/",
          "height": 0
        },
        "id": "WbVeBw86dEYX",
        "outputId": "96b861f8-ff78-4942-fc2a-5c519358c9f1"
      },
      "execution_count": 75,
      "outputs": [
        {
          "output_type": "stream",
          "name": "stdout",
          "text": [
            "Index(['CustomerID', 'Name', 'Age', 'Gender', 'Income', 'Location',\n",
            "       'SubscriptionID', 'StartDate', 'EndDate', 'Status', 'transaction_id',\n",
            "       'transaction_date', 'amount', 'transaction_type', 'usage_id',\n",
            "       'feature_used', 'usage_date', 'usage_amount'],\n",
            "      dtype='object')\n"
          ]
        }
      ]
    },
    {
      "cell_type": "code",
      "source": [
        "merged_df[\"StartDate\"] = pd.to_datetime(merged_df[\"StartDate\"], errors=\"coerce\")\n",
        "merged_df[\"EndDate\"] = pd.to_datetime(merged_df[\"EndDate\"], errors=\"coerce\")\n",
        "merged_df[\"tenure\"] = (merged_df[\"EndDate\"] - merged_df[\"StartDate\"]).dt.days\n"
      ],
      "metadata": {
        "id": "d_4q49xqdMrq"
      },
      "execution_count": 76,
      "outputs": []
    },
    {
      "cell_type": "code",
      "source": [
        "print(merged_df[[\"StartDate\", \"EndDate\", \"tenure\"]].head())"
      ],
      "metadata": {
        "colab": {
          "base_uri": "https://localhost:8080/",
          "height": 0
        },
        "id": "EGLS4x5Id-bb",
        "outputId": "8eb01907-ae93-4440-f3a8-e883e82f0165"
      },
      "execution_count": 77,
      "outputs": [
        {
          "output_type": "stream",
          "name": "stdout",
          "text": [
            "   StartDate    EndDate  tenure\n",
            "0 2022-01-31        NaT     NaN\n",
            "1 2022-02-28 2024-11-21   997.0\n",
            "2 2022-03-31        NaT     NaN\n",
            "3 2022-04-30 2024-11-21   936.0\n",
            "4 2022-04-30 2024-11-21   936.0\n"
          ]
        }
      ]
    },
    {
      "cell_type": "code",
      "source": [
        "# Avoid division by zero by replacing tenure of 0 with NaN\n",
        "merged_df[\"tenure\"] = merged_df[\"tenure\"].replace(0, np.nan)\n",
        "\n",
        "# Calculate average monthly spend\n",
        "merged_df[\"average_monthly_spend\"] = merged_df[\"amount\"] / (merged_df[\"tenure\"] / 30.0)\n",
        "\n",
        "# Fill NaN values in 'average_monthly_spend' if any tenure is missing or invalid\n",
        "merged_df[\"average_monthly_spend\"].fillna(0, inplace=True)\n"
      ],
      "metadata": {
        "colab": {
          "base_uri": "https://localhost:8080/",
          "height": 0
        },
        "id": "BndusKs7eGDr",
        "outputId": "cbce74d1-7c41-4b23-a330-82eb5131dbd3"
      },
      "execution_count": 78,
      "outputs": [
        {
          "output_type": "stream",
          "name": "stderr",
          "text": [
            "<ipython-input-78-fca80104520c>:8: FutureWarning: A value is trying to be set on a copy of a DataFrame or Series through chained assignment using an inplace method.\n",
            "The behavior will change in pandas 3.0. This inplace method will never work because the intermediate object on which we are setting values always behaves as a copy.\n",
            "\n",
            "For example, when doing 'df[col].method(value, inplace=True)', try using 'df.method({col: value}, inplace=True)' or df[col] = df[col].method(value) instead, to perform the operation inplace on the original object.\n",
            "\n",
            "\n",
            "  merged_df[\"average_monthly_spend\"].fillna(0, inplace=True)\n"
          ]
        }
      ]
    },
    {
      "cell_type": "code",
      "source": [
        "print(merged_df.columns)\n"
      ],
      "metadata": {
        "colab": {
          "base_uri": "https://localhost:8080/",
          "height": 0
        },
        "id": "GeLf6VZMeNIM",
        "outputId": "da0fc72c-a0a9-45d3-cc44-5456ac080f96"
      },
      "execution_count": 79,
      "outputs": [
        {
          "output_type": "stream",
          "name": "stdout",
          "text": [
            "Index(['CustomerID', 'Name', 'Age', 'Gender', 'Income', 'Location',\n",
            "       'SubscriptionID', 'StartDate', 'EndDate', 'Status', 'transaction_id',\n",
            "       'transaction_date', 'amount', 'transaction_type', 'usage_id',\n",
            "       'feature_used', 'usage_date', 'usage_amount', 'tenure',\n",
            "       'average_monthly_spend'],\n",
            "      dtype='object')\n"
          ]
        }
      ]
    },
    {
      "cell_type": "code",
      "source": [
        "print(merged_df.head())\n"
      ],
      "metadata": {
        "colab": {
          "base_uri": "https://localhost:8080/",
          "height": 0
        },
        "id": "1b8u5eY5emNx",
        "outputId": "d46c31c9-99a8-4e27-d7e6-5ec0086593b9"
      },
      "execution_count": 80,
      "outputs": [
        {
          "output_type": "stream",
          "name": "stdout",
          "text": [
            "   CustomerID             Name  Age  Gender  Income   Location SubscriptionID  \\\n",
            "0           1      Karan Reddy   29    Male   40000  Hyderabad        SUB0001   \n",
            "1           2      Anaya Joshi   35  Female   55000  Bangalore        SUB0002   \n",
            "2           3         Diya Das   28  Female   60000    Chennai        SUB0003   \n",
            "3           4  Siddharth Reddy   32    Male   45000      Delhi        SUB0004   \n",
            "4           4  Siddharth Reddy   32    Male   45000      Delhi        SUB0004   \n",
            "\n",
            "   StartDate    EndDate Status transaction_id transaction_date  amount  \\\n",
            "0 2022-01-31        NaT    Yes            NaN              NaN     NaN   \n",
            "1 2022-02-28 2024-11-21     No       e183937c       2024-10-01   13.92   \n",
            "2 2022-03-31        NaT    Yes            NaN              NaN     NaN   \n",
            "3 2022-04-30 2024-11-21     No       ce657026       2024-06-05   17.95   \n",
            "4 2022-04-30 2024-11-21     No       ce657026       2024-06-05   17.95   \n",
            "\n",
            "  transaction_type  usage_id      feature_used  usage_date  usage_amount  \\\n",
            "0              NaN       NaN               NaN         NaN           NaN   \n",
            "1            Debit       4.0       Watch Movie  2024-08-02         30.94   \n",
            "2              NaN      11.0      Rate Content  2024-02-21         21.23   \n",
            "3            Debit      21.0  Download Episode  2024-11-05         82.45   \n",
            "4            Debit      28.0       Watch Movie  2024-09-04         66.47   \n",
            "\n",
            "   tenure  average_monthly_spend  \n",
            "0     NaN               0.000000  \n",
            "1   997.0               0.418857  \n",
            "2     NaN               0.000000  \n",
            "3   936.0               0.575321  \n",
            "4   936.0               0.575321  \n"
          ]
        }
      ]
    },
    {
      "cell_type": "code",
      "source": [
        "plt.figure(figsize=(8, 5))\n",
        "sns.histplot(merged_df[\"Age\"], bins=10, kde=True)\n",
        "plt.title(\"Age Distribution\")\n",
        "plt.show()"
      ],
      "metadata": {
        "colab": {
          "base_uri": "https://localhost:8080/",
          "height": 487
        },
        "id": "ykzvj0fQeods",
        "outputId": "5d1d7f74-f202-4dc8-cebc-1c7e37431803"
      },
      "execution_count": 81,
      "outputs": [
        {
          "output_type": "display_data",
          "data": {
            "text/plain": [
              "<Figure size 800x500 with 1 Axes>"
            ],
            "image/png": "[encoded data removed]"
          },
          "metadata": {}
        }
      ]
    },
    {
      "cell_type": "code",
      "source": [
        "Subscriptions = pd.read_csv(\"/content/Subscription.csv\")\n",
        "print(Subscriptions.columns)\n",
        "plt.figure(figsize=(8, 5))\n",
        "sns.countplot(x=\"Status\", data=Subscriptions)\n",
        "plt.title(\"Subscriptions Status\")\n",
        "plt.show()"
      ],
      "metadata": {
        "colab": {
          "base_uri": "https://localhost:8080/",
          "height": 504
        },
        "id": "D6n-sGdknVvu",
        "outputId": "19da02e9-6c95-4fb5-cacd-68b479c15a25"
      },
      "execution_count": 89,
      "outputs": [
        {
          "output_type": "stream",
          "name": "stdout",
          "text": [
            "Index(['CustomerID', 'SubscriptionID', 'StartDate', 'EndDate', 'Status'], dtype='object')\n"
          ]
        },
        {
          "output_type": "display_data",
          "data": {
            "text/plain": [
              "<Figure size 800x500 with 1 Axes>"
            ],
            "image/png": "[encoded data removed]"
          },
          "metadata": {}
        }
      ]
    },
    {
      "cell_type": "code",
      "source": [
        "print(Subscriptions.columns)\n"
      ],
      "metadata": {
        "colab": {
          "base_uri": "https://localhost:8080/",
          "height": 0
        },
        "id": "c4WjJqZarvd-",
        "outputId": "f3516e49-f1c4-4ff9-c4dc-106971df5e2a"
      },
      "execution_count": 90,
      "outputs": [
        {
          "output_type": "stream",
          "name": "stdout",
          "text": [
            "Index(['CustomerID', 'SubscriptionID', 'StartDate', 'EndDate', 'Status'], dtype='object')\n"
          ]
        }
      ]
    },
    {
      "cell_type": "code",
      "source": [
        "plt.figure(figsize=(8, 5))\n",
        "sns.countplot(x=\"transaction_type\", data=Transactions)\n",
        "plt.title(\"Transaction Types\")\n",
        "plt.show()"
      ],
      "metadata": {
        "colab": {
          "base_uri": "https://localhost:8080/",
          "height": 487
        },
        "id": "TAwh2Eoir4f4",
        "outputId": "cdf64998-7352-438c-b5f3-fd06cce90590"
      },
      "execution_count": 93,
      "outputs": [
        {
          "output_type": "display_data",
          "data": {
            "text/plain": [
              "<Figure size 800x500 with 1 Axes>"
            ],
            "image/png": "[encoded data removed]"
          },
          "metadata": {}
        }
      ]
    },
    {
      "cell_type": "code",
      "source": [
        "import pandas as pd\n",
        "from sklearn.preprocessing import LabelEncoder\n",
        "\n",
        "# Print columns to inspect available ones\n",
        "print(merged_df.columns)\n",
        "\n",
        "# Apply label encoding with correct column names\n",
        "merged_df[\"Gender\"] = LabelEncoder().fit_transform(merged_df[\"Gender\"])\n",
        "merged_df[\"Location\"] = LabelEncoder().fit_transform(merged_df[\"Location\"])\n",
        "\n",
        "# Use the correct column names based on your DataFrame\n",
        "merged_df[\"SubscriptionID\"] = LabelEncoder().fit_transform(merged_df[\"SubscriptionID\"])  # If you need to encode SubscriptionID\n",
        "merged_df[\"transaction_type\"] = LabelEncoder().fit_transform(merged_df[\"transaction_type\"])  # Encoding for transaction_type\n"
      ],
      "metadata": {
        "colab": {
          "base_uri": "https://localhost:8080/",
          "height": 0
        },
        "id": "hDls-J-asy_k",
        "outputId": "194ba931-929e-48fd-b699-ccce40ec7a9c"
      },
      "execution_count": 98,
      "outputs": [
        {
          "output_type": "stream",
          "name": "stdout",
          "text": [
            "Index(['CustomerID', 'Name', 'Age', 'Gender', 'Income', 'Location',\n",
            "       'SubscriptionID', 'StartDate', 'EndDate', 'Status', 'transaction_id',\n",
            "       'transaction_date', 'amount', 'transaction_type', 'usage_id',\n",
            "       'feature_used', 'usage_date', 'usage_amount', 'tenure',\n",
            "       'average_monthly_spend'],\n",
            "      dtype='object')\n"
          ]
        }
      ]
    },
    {
      "cell_type": "code",
      "source": [],
      "metadata": {
        "id": "MBuMDfujuvFS"
      },
      "execution_count": null,
      "outputs": []
    },
    {
      "cell_type": "code",
      "source": [
        "# Check column names to make sure 'churned' is present\n",
        "print(merged_df.columns)\n",
        "\n",
        "# If 'churned' column doesn't exist, create it\n",
        "if 'churned' not in merged_df.columns:\n",
        "    merged_df[\"churned\"] = (merged_df[\"Status\"] == \"Churned\").astype(int)\n",
        "\n",
        "# Define features and target variable\n",
        "features = [\"Age\", \"Gender\", \"Income\", \"tenure\", \"average_monthly_spend\"]\n",
        "X = merged_df[features]\n",
        "y = merged_df[\"churned\"]\n"
      ],
      "metadata": {
        "colab": {
          "base_uri": "https://localhost:8080/",
          "height": 0
        },
        "id": "JFuhSC_Cs4O_",
        "outputId": "0f6b4891-59d1-42cb-9d18-c50e4b3178d4"
      },
      "execution_count": 101,
      "outputs": [
        {
          "output_type": "stream",
          "name": "stdout",
          "text": [
            "Index(['CustomerID', 'Name', 'Age', 'Gender', 'Income', 'Location',\n",
            "       'SubscriptionID', 'StartDate', 'EndDate', 'Status', 'transaction_id',\n",
            "       'transaction_date', 'amount', 'transaction_type', 'usage_id',\n",
            "       'feature_used', 'usage_date', 'usage_amount', 'tenure',\n",
            "       'average_monthly_spend'],\n",
            "      dtype='object')\n"
          ]
        }
      ]
    },
    {
      "cell_type": "code",
      "source": [
        "from sklearn.model_selection import train_test_split\n",
        "from sklearn.ensemble import RandomForestClassifier\n",
        "from sklearn.metrics import classification_report\n",
        "\n",
        "# Split data\n",
        "X_train, X_test, y_train, y_test = train_test_split(X, y, test_size=0.2, random_state=42)\n",
        "\n",
        "# Train model\n",
        "model = RandomForestClassifier(random_state=42)\n",
        "model.fit(X_train, y_train)\n",
        "\n",
        "# Evaluate model\n",
        "predictions = model.predict(X_test)\n",
        "print(classification_report(y_test, predictions))\n"
      ],
      "metadata": {
        "colab": {
          "base_uri": "https://localhost:8080/",
          "height": 0
        },
        "id": "vG71Atz_urSP",
        "outputId": "29752348-6b5c-4788-ec8c-54348b985dbd"
      },
      "execution_count": 102,
      "outputs": [
        {
          "output_type": "stream",
          "name": "stdout",
          "text": [
            "              precision    recall  f1-score   support\n",
            "\n",
            "           0       1.00      1.00      1.00        15\n",
            "\n",
            "    accuracy                           1.00        15\n",
            "   macro avg       1.00      1.00      1.00        15\n",
            "weighted avg       1.00      1.00      1.00        15\n",
            "\n"
          ]
        }
      ]
    },
    {
      "cell_type": "code",
      "source": [
        "from sklearn.impute import SimpleImputer\n",
        "\n",
        "# Create an imputer to fill missing values with the mean\n",
        "imputer = SimpleImputer(strategy='mean')\n",
        "\n",
        "# Impute the missing values in X\n",
        "X_imputed = imputer.fit_transform(X)\n",
        "\n",
        "# Perform clustering on the cleaned data\n",
        "kmeans = KMeans(n_clusters=3, random_state=42)\n",
        "merged_df[\"segment\"] = kmeans.fit_predict(X_imputed)\n",
        "\n",
        "# Analyze clusters\n",
        "for segment in merged_df[\"segment\"].unique():\n",
        "    print(merged_df[merged_df[\"segment\"] == segment].describe())\n"
      ],
      "metadata": {
        "colab": {
          "base_uri": "https://localhost:8080/",
          "height": 0
        },
        "id": "FD5BZ0zivpgK",
        "outputId": "31403b07-7d04-4d32-8157-4eb077224913"
      },
      "execution_count": 104,
      "outputs": [
        {
          "output_type": "stream",
          "name": "stdout",
          "text": [
            "       CustomerID        Age     Gender        Income   Location  \\\n",
            "count   23.000000  23.000000  23.000000     23.000000  23.000000   \n",
            "mean    18.000000  31.217391   0.826087  44521.739130  19.347826   \n",
            "min      1.000000  26.000000   0.000000  40000.000000   5.000000   \n",
            "25%      6.500000  29.000000   1.000000  43000.000000  12.000000   \n",
            "50%     19.000000  31.000000   1.000000  45000.000000  15.000000   \n",
            "75%     28.000000  32.000000   1.000000  45000.000000  29.000000   \n",
            "max     40.000000  37.000000   1.000000  47000.000000  39.000000   \n",
            "std     12.380336   3.218646   0.387553   1903.813523  10.675412   \n",
            "\n",
            "       SubscriptionID                      StartDate              EndDate  \\\n",
            "count       23.000000                             23                   15   \n",
            "mean        17.000000  2023-07-01 01:02:36.521739008  2024-11-21 00:00:00   \n",
            "min          0.000000            2022-01-31 00:00:00  2024-11-21 00:00:00   \n",
            "25%          5.500000            2022-07-15 12:00:00  2024-11-21 00:00:00   \n",
            "50%         18.000000            2023-07-31 00:00:00  2024-11-21 00:00:00   \n",
            "75%         27.000000            2024-04-30 00:00:00  2024-11-21 00:00:00   \n",
            "max         39.000000            2025-04-30 00:00:00  2024-11-21 00:00:00   \n",
            "std         12.380336                            NaN                  NaN   \n",
            "\n",
            "          amount  transaction_type   usage_id  usage_amount      tenure  \\\n",
            "count  18.000000         23.000000  12.000000     12.000000   15.000000   \n",
            "mean   14.208889          0.869565  22.333333     57.174167  496.933333   \n",
            "min     7.920000          0.000000  12.000000     27.310000 -160.000000   \n",
            "25%    10.950000          0.000000  15.750000     35.752500   82.500000   \n",
            "50%    15.710000          1.000000  21.500000     61.080000  752.000000   \n",
            "75%    17.845000          1.000000  28.000000     71.020000  905.500000   \n",
            "max    18.270000          2.000000  35.000000     87.980000  936.000000   \n",
            "std     3.836723          0.757049   7.583874     21.753334  418.462401   \n",
            "\n",
            "       average_monthly_spend  churned  segment  \n",
            "count              23.000000     23.0     23.0  \n",
            "mean                3.583146      0.0      2.0  \n",
            "min                 0.000000      0.0      2.0  \n",
            "25%                 0.000000      0.0      2.0  \n",
            "50%                 0.394286      0.0      2.0  \n",
            "75%                 0.725066      0.0      2.0  \n",
            "max                26.028571      0.0      2.0  \n",
            "std                 8.446730      0.0      0.0  \n",
            "       CustomerID        Age     Gender        Income   Location  \\\n",
            "count   31.000000  31.000000  31.000000     31.000000  31.000000   \n",
            "mean    23.419355  31.354839   0.612903  51387.096774  23.935484   \n",
            "min      2.000000  25.000000   0.000000  48000.000000   4.000000   \n",
            "25%     17.500000  28.500000   0.000000  49500.000000  14.000000   \n",
            "50%     22.000000  32.000000   1.000000  51000.000000  23.000000   \n",
            "75%     33.500000  33.000000   1.000000  53000.000000  34.500000   \n",
            "max     38.000000  40.000000   1.000000  55000.000000  38.000000   \n",
            "std     10.180944   3.564158   0.495138   2108.355115  10.295421   \n",
            "\n",
            "       SubscriptionID                      StartDate              EndDate  \\\n",
            "count       31.000000                             31                   19   \n",
            "mean        22.419355  2023-12-12 21:40:38.709677312  2024-11-21 00:00:00   \n",
            "min          1.000000            2022-02-28 00:00:00  2024-11-21 00:00:00   \n",
            "25%         16.500000            2023-06-15 00:00:00  2024-11-21 00:00:00   \n",
            "50%         21.000000            2023-10-31 00:00:00  2024-11-21 00:00:00   \n",
            "75%         32.500000            2024-10-15 12:00:00  2024-11-21 00:00:00   \n",
            "max         37.000000            2025-02-28 00:00:00  2024-11-21 00:00:00   \n",
            "std         10.180944                            NaN                  NaN   \n",
            "\n",
            "          amount  transaction_type   usage_id  usage_amount      tenure  \\\n",
            "count  18.000000         31.000000  28.000000     28.000000   19.000000   \n",
            "mean   14.505000          1.096774  21.321429     56.128929  438.842105   \n",
            "min     7.390000          0.000000   1.000000     29.380000  -99.000000   \n",
            "25%    11.782500          0.000000   8.750000     38.917500  296.000000   \n",
            "50%    15.405000          1.000000  20.000000     53.645000  510.000000   \n",
            "75%    16.715000          2.000000  34.000000     71.620000  540.500000   \n",
            "max    19.930000          2.000000  40.000000     93.620000  997.000000   \n",
            "std     3.726993          0.870051  12.924434     20.220775  271.998624   \n",
            "\n",
            "       average_monthly_spend  churned  segment  \n",
            "count              31.000000     31.0     31.0  \n",
            "mean                0.666462      0.0      0.0  \n",
            "min                -4.706061      0.0      0.0  \n",
            "25%                 0.000000      0.0      0.0  \n",
            "50%                 0.000000      0.0      0.0  \n",
            "75%                 0.912941      0.0      0.0  \n",
            "max                 6.665854      0.0      0.0  \n",
            "std                 1.863004      0.0      0.0  \n",
            "       CustomerID        Age     Gender        Income   Location  \\\n",
            "count    17.00000  17.000000  17.000000     17.000000  17.000000   \n",
            "mean     22.00000  32.176471   0.470588  59764.705882  13.176471   \n",
            "min       3.00000  27.000000   0.000000  56000.000000   0.000000   \n",
            "25%      13.00000  28.000000   0.000000  58000.000000   2.000000   \n",
            "50%      24.00000  30.000000   0.000000  60000.000000   9.000000   \n",
            "75%      27.00000  36.000000   1.000000  62000.000000  19.000000   \n",
            "max      39.00000  38.000000   1.000000  62000.000000  32.000000   \n",
            "std      11.00568   4.390833   0.514496   2194.578882  11.577107   \n",
            "\n",
            "       SubscriptionID                      StartDate              EndDate  \\\n",
            "count        17.00000                             17                    3   \n",
            "mean         21.00000  2023-10-30 21:10:35.294117632  2024-11-21 00:00:00   \n",
            "min           2.00000            2022-03-31 00:00:00  2024-11-21 00:00:00   \n",
            "25%          12.00000            2023-01-31 00:00:00  2024-11-21 00:00:00   \n",
            "50%          23.00000            2023-12-31 00:00:00  2024-11-21 00:00:00   \n",
            "75%          26.00000            2024-03-31 00:00:00  2024-11-21 00:00:00   \n",
            "max          38.00000            2025-03-31 00:00:00  2024-11-21 00:00:00   \n",
            "std          11.00568                            NaN                  NaN   \n",
            "\n",
            "          amount  transaction_type   usage_id  usage_amount      tenure  \\\n",
            "count  14.000000         17.000000  12.000000     12.000000    3.000000   \n",
            "mean   14.272857          0.647059  20.083333     54.998333  204.000000   \n",
            "min     6.560000          0.000000   2.000000     21.230000  -40.000000   \n",
            "25%    12.752500          0.000000   9.500000     39.635000  143.000000   \n",
            "50%    15.730000          0.000000  22.000000     54.420000  326.000000   \n",
            "75%    16.307500          1.000000  30.250000     76.660000  326.000000   \n",
            "max    18.900000          2.000000  36.000000     78.630000  326.000000   \n",
            "std     3.941125          0.785905  12.802403     21.668911  211.310199   \n",
            "\n",
            "       average_monthly_spend  churned  segment  \n",
            "count              17.000000     17.0     17.0  \n",
            "mean                0.081577      0.0      1.0  \n",
            "min                 0.000000      0.0      1.0  \n",
            "25%                 0.000000      0.0      1.0  \n",
            "50%                 0.000000      0.0      1.0  \n",
            "75%                 0.000000      0.0      1.0  \n",
            "max                 0.783129      0.0      1.0  \n",
            "std                 0.232458      0.0      0.0  \n"
          ]
        }
      ]
    },
    {
      "cell_type": "code",
      "source": [
        "Transactions[\"transaction_date\"] = pd.to_datetime(Transactions[\"transaction_date\"])\n"
      ],
      "metadata": {
        "id": "pP8SMIUCwHpB"
      },
      "execution_count": 107,
      "outputs": []
    },
    {
      "cell_type": "code",
      "source": [
        "# Prepare revenue data\n",
        "revenue_data = Transactions.groupby(Transactions[\"transaction_date\"].dt.to_period(\"M\"))[\"amount\"].sum().reset_index()\n",
        "revenue_data.columns = [\"ds\", \"y\"]\n",
        "revenue_data[\"ds\"] = revenue_data[\"ds\"].dt.to_timestamp()\n",
        "\n",
        "# Fit Prophet model\n",
        "model = Prophet()\n",
        "model.fit(revenue_data)\n",
        "\n",
        "# Forecast revenue\n",
        "future = model.make_future_dataframe(periods=12, freq=\"M\")\n",
        "forecast = model.predict(future)\n",
        "model.plot(forecast)\n",
        "plt.show()\n"
      ],
      "metadata": {
        "colab": {
          "base_uri": "https://localhost:8080/",
          "height": 886
        },
        "id": "_rQ-EUzcwhz6",
        "outputId": "97d7f243-36ce-4e88-de05-e25f7f307cbd"
      },
      "execution_count": 108,
      "outputs": [
        {
          "output_type": "stream",
          "name": "stderr",
          "text": [
            "INFO:prophet:Disabling yearly seasonality. Run prophet with yearly_seasonality=True to override this.\n",
            "INFO:prophet:Disabling weekly seasonality. Run prophet with weekly_seasonality=True to override this.\n",
            "INFO:prophet:Disabling daily seasonality. Run prophet with daily_seasonality=True to override this.\n",
            "INFO:prophet:n_changepoints greater than number of observations. Using 7.\n",
            "DEBUG:cmdstanpy:input tempfile: /tmp/tmpqyozztqq/uraxaqkh.json\n",
            "DEBUG:cmdstanpy:input tempfile: /tmp/tmpqyozztqq/o1wt7bpx.json\n",
            "DEBUG:cmdstanpy:idx 0\n",
            "DEBUG:cmdstanpy:running CmdStan, num_threads: None\n",
            "DEBUG:cmdstanpy:CmdStan args: ['/usr/local/lib/python3.10/dist-packages/prophet/stan_model/prophet_model.bin', 'random', 'seed=10139', 'data', 'file=/tmp/tmpqyozztqq/uraxaqkh.json', 'init=/tmp/tmpqyozztqq/o1wt7bpx.json', 'output', 'file=/tmp/tmpqyozztqq/prophet_model9to5axzn/prophet_model-20241122120547.csv', 'method=optimize', 'algorithm=newton', 'iter=10000']\n",
            "12:05:47 - cmdstanpy - INFO - Chain [1] start processing\n",
            "INFO:cmdstanpy:Chain [1] start processing\n",
            "12:05:47 - cmdstanpy - INFO - Chain [1] done processing\n",
            "INFO:cmdstanpy:Chain [1] done processing\n",
            "/usr/local/lib/python3.10/dist-packages/prophet/forecaster.py:1854: FutureWarning: 'M' is deprecated and will be removed in a future version, please use 'ME' instead.\n",
            "  dates = pd.date_range(\n"
          ]
        },
        {
          "output_type": "display_data",
          "data": {
            "text/plain": [
              "<Figure size 1000x600 with 1 Axes>"
            ],
            "image/png": "[encoded data removed]"
          },
          "metadata": {}
        }
      ]
    },
    {
      "cell_type": "code",
      "source": [
        "merged_df.to_csv(\"customer_analysis_results.csv\", index=False)\n",
        "forecast.to_csv(\"revenue_forecast.csv\", index=False)\n"
      ],
      "metadata": {
        "id": "2Wg3hcruw5E_"
      },
      "execution_count": 109,
      "outputs": []
    },
    {
      "cell_type": "code",
      "source": [],
      "metadata": {
        "id": "_tKRb-uPxcGN"
      },
      "execution_count": null,
      "outputs": []
    }
  ]
}